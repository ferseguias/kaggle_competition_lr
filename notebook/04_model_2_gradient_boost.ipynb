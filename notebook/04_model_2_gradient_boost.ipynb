{
 "cells": [
  {
   "cell_type": "code",
   "execution_count": 1,
   "metadata": {},
   "outputs": [],
   "source": [
    "import pandas as pd\n",
    "import numpy as np\n",
    "from sklearn.model_selection import train_test_split\n",
    "from sklearn.ensemble import GradientBoostingRegressor\n",
    "from sklearn.ensemble import RandomForestRegressor\n",
    "from sklearn.model_selection import GridSearchCV\n",
    "from sklearn import metrics"
   ]
  },
  {
   "cell_type": "code",
   "execution_count": 2,
   "metadata": {},
   "outputs": [
    {
     "name": "stdout",
     "output_type": "stream",
     "text": [
      "shape: (28942, 7)\n"
     ]
    },
    {
     "data": {
      "text/html": [
       "<div>\n",
       "<style scoped>\n",
       "    .dataframe tbody tr th:only-of-type {\n",
       "        vertical-align: middle;\n",
       "    }\n",
       "\n",
       "    .dataframe tbody tr th {\n",
       "        vertical-align: top;\n",
       "    }\n",
       "\n",
       "    .dataframe thead th {\n",
       "        text-align: right;\n",
       "    }\n",
       "</style>\n",
       "<table border=\"1\" class=\"dataframe\">\n",
       "  <thead>\n",
       "    <tr style=\"text-align: right;\">\n",
       "      <th></th>\n",
       "      <th>weight</th>\n",
       "      <th>quality</th>\n",
       "      <th>color</th>\n",
       "      <th>clarity</th>\n",
       "      <th>table_percent</th>\n",
       "      <th>price</th>\n",
       "      <th>depth_percent</th>\n",
       "    </tr>\n",
       "  </thead>\n",
       "  <tbody>\n",
       "    <tr>\n",
       "      <th>0</th>\n",
       "      <td>0.30</td>\n",
       "      <td>3</td>\n",
       "      <td>6</td>\n",
       "      <td>1</td>\n",
       "      <td>0.58</td>\n",
       "      <td>6.353</td>\n",
       "      <td>0.624</td>\n",
       "    </tr>\n",
       "    <tr>\n",
       "      <th>1</th>\n",
       "      <td>1.01</td>\n",
       "      <td>4</td>\n",
       "      <td>5</td>\n",
       "      <td>5</td>\n",
       "      <td>0.56</td>\n",
       "      <td>9.183</td>\n",
       "      <td>0.627</td>\n",
       "    </tr>\n",
       "    <tr>\n",
       "      <th>2</th>\n",
       "      <td>0.72</td>\n",
       "      <td>4</td>\n",
       "      <td>4</td>\n",
       "      <td>3</td>\n",
       "      <td>0.59</td>\n",
       "      <td>7.983</td>\n",
       "      <td>0.618</td>\n",
       "    </tr>\n",
       "    <tr>\n",
       "      <th>3</th>\n",
       "      <td>1.08</td>\n",
       "      <td>2</td>\n",
       "      <td>3</td>\n",
       "      <td>1</td>\n",
       "      <td>0.57</td>\n",
       "      <td>8.371</td>\n",
       "      <td>0.632</td>\n",
       "    </tr>\n",
       "    <tr>\n",
       "      <th>4</th>\n",
       "      <td>0.36</td>\n",
       "      <td>3</td>\n",
       "      <td>3</td>\n",
       "      <td>4</td>\n",
       "      <td>0.59</td>\n",
       "      <td>6.588</td>\n",
       "      <td>0.623</td>\n",
       "    </tr>\n",
       "  </tbody>\n",
       "</table>\n",
       "</div>"
      ],
      "text/plain": [
       "   weight  quality  color  clarity  table_percent  price  depth_percent\n",
       "0    0.30        3      6        1           0.58  6.353          0.624\n",
       "1    1.01        4      5        5           0.56  9.183          0.627\n",
       "2    0.72        4      4        3           0.59  7.983          0.618\n",
       "3    1.08        2      3        1           0.57  8.371          0.632\n",
       "4    0.36        3      3        4           0.59  6.588          0.623"
      ]
     },
     "execution_count": 2,
     "metadata": {},
     "output_type": "execute_result"
    }
   ],
   "source": [
    "df = pd.read_csv('../data/train_data_encoded.csv')\n",
    "print('shape:', df.shape)\n",
    "df.head(5)"
   ]
  },
  {
   "cell_type": "code",
   "execution_count": 3,
   "metadata": {},
   "outputs": [
    {
     "name": "stdout",
     "output_type": "stream",
     "text": [
      "Datos de entrenamiento\n",
      "-----------------------\n",
      "count    23153.000000\n",
      "mean         7.992375\n",
      "std          0.993806\n",
      "min          5.787000\n",
      "25%          7.156000\n",
      "50%          8.082000\n",
      "75%          8.755000\n",
      "max          9.842000\n",
      "Name: price, dtype: float64\n",
      "\n",
      "\n",
      "Datos de testeo\n",
      "-----------------------\n",
      "count    5789.000000\n",
      "mean        8.006556\n",
      "std         0.986775\n",
      "min         5.866000\n",
      "25%         7.189000\n",
      "50%         8.089000\n",
      "75%         8.755000\n",
      "max         9.841000\n",
      "Name: price, dtype: float64\n"
     ]
    }
   ],
   "source": [
    "#split dara train and test\n",
    "X = df.drop([\"price\"], axis = 1)\n",
    "y = df['price']\n",
    "\n",
    "X_train, X_test, y_train, y_test = train_test_split(X, y, train_size   = 0.8, random_state = 42)\n",
    "\n",
    "print(\"Datos de entrenamiento\")\n",
    "print(\"-----------------------\")\n",
    "print(y_train.describe())\n",
    "print('\\n')\n",
    "print(\"Datos de testeo\")\n",
    "print(\"-----------------------\")\n",
    "print(y_test.describe())"
   ]
  },
  {
   "cell_type": "code",
   "execution_count": 4,
   "metadata": {},
   "outputs": [],
   "source": [
    "def metricas(y_test, y_train, y_test_pred, y_train_pred, tipo_modelo):\n",
    "    resultados = {'MAE': [metrics.mean_absolute_error(y_test, y_test_pred), metrics.mean_absolute_error(y_train, y_train_pred)],\n",
    "                'MSE': [metrics.mean_squared_error(y_test, y_test_pred), metrics.mean_squared_error(y_train, y_train_pred)],\n",
    "                'RMSE': [np.sqrt(metrics.mean_squared_error(y_test, y_test_pred)), np.sqrt(metrics.mean_squared_error(y_train, y_train_pred))],\n",
    "                'R2':  [metrics.r2_score(y_test, y_test_pred), metrics.r2_score(y_train, y_train_pred)],\n",
    "                 \"set\": [\"test\", \"train\"]}\n",
    "    df = pd.DataFrame(resultados)\n",
    "    df[\"modelo\"] = tipo_modelo\n",
    "    return df"
   ]
  },
  {
   "cell_type": "code",
   "execution_count": 20,
   "metadata": {},
   "outputs": [
    {
     "data": {
      "text/html": [
       "<style type=\"text/css\">\n",
       "#T_ab86a_row0_col0, #T_ab86a_row0_col1, #T_ab86a_row0_col2, #T_ab86a_row1_col3 {\n",
       "  background-color: #b40426;\n",
       "  color: #f1f1f1;\n",
       "}\n",
       "#T_ab86a_row0_col3, #T_ab86a_row1_col0, #T_ab86a_row1_col1, #T_ab86a_row1_col2 {\n",
       "  background-color: #3b4cc0;\n",
       "  color: #f1f1f1;\n",
       "}\n",
       "</style>\n",
       "<table id=\"T_ab86a\">\n",
       "  <thead>\n",
       "    <tr>\n",
       "      <th class=\"blank level0\" >&nbsp;</th>\n",
       "      <th id=\"T_ab86a_level0_col0\" class=\"col_heading level0 col0\" >MAE</th>\n",
       "      <th id=\"T_ab86a_level0_col1\" class=\"col_heading level0 col1\" >MSE</th>\n",
       "      <th id=\"T_ab86a_level0_col2\" class=\"col_heading level0 col2\" >RMSE</th>\n",
       "      <th id=\"T_ab86a_level0_col3\" class=\"col_heading level0 col3\" >R2</th>\n",
       "      <th id=\"T_ab86a_level0_col4\" class=\"col_heading level0 col4\" >set</th>\n",
       "      <th id=\"T_ab86a_level0_col5\" class=\"col_heading level0 col5\" >modelo</th>\n",
       "    </tr>\n",
       "  </thead>\n",
       "  <tbody>\n",
       "    <tr>\n",
       "      <th id=\"T_ab86a_level0_row0\" class=\"row_heading level0 row0\" >0</th>\n",
       "      <td id=\"T_ab86a_row0_col0\" class=\"data row0 col0\" >0.077477</td>\n",
       "      <td id=\"T_ab86a_row0_col1\" class=\"data row0 col1\" >0.010887</td>\n",
       "      <td id=\"T_ab86a_row0_col2\" class=\"data row0 col2\" >0.104340</td>\n",
       "      <td id=\"T_ab86a_row0_col3\" class=\"data row0 col3\" >0.988817</td>\n",
       "      <td id=\"T_ab86a_row0_col4\" class=\"data row0 col4\" >test</td>\n",
       "      <td id=\"T_ab86a_row0_col5\" class=\"data row0 col5\" >Gradient 1</td>\n",
       "    </tr>\n",
       "    <tr>\n",
       "      <th id=\"T_ab86a_level0_row1\" class=\"row_heading level0 row1\" >1</th>\n",
       "      <td id=\"T_ab86a_row1_col0\" class=\"data row1 col0\" >0.042378</td>\n",
       "      <td id=\"T_ab86a_row1_col1\" class=\"data row1 col1\" >0.003509</td>\n",
       "      <td id=\"T_ab86a_row1_col2\" class=\"data row1 col2\" >0.059241</td>\n",
       "      <td id=\"T_ab86a_row1_col3\" class=\"data row1 col3\" >0.996447</td>\n",
       "      <td id=\"T_ab86a_row1_col4\" class=\"data row1 col4\" >train</td>\n",
       "      <td id=\"T_ab86a_row1_col5\" class=\"data row1 col5\" >Gradient 1</td>\n",
       "    </tr>\n",
       "  </tbody>\n",
       "</table>\n"
      ],
      "text/plain": [
       "<pandas.io.formats.style.Styler at 0x7f9ba8fb0b50>"
      ]
     },
     "execution_count": 20,
     "metadata": {},
     "output_type": "execute_result"
    }
   ],
   "source": [
    "gb = GradientBoostingRegressor(n_estimators=100, learning_rate=0.1, max_depth=10, random_state=0, criterion='squared_error')\n",
    "gb.fit(X_train, y_train)\n",
    "\n",
    "y_pred_gb_test= gb.predict(X_test)\n",
    "y_pred_gb_train= gb.predict(X_train)\n",
    "\n",
    "results_gradient_1 = metricas(y_test, y_train, y_pred_gb_test, y_pred_gb_train, \"Gradient 1\")\n",
    "results_gradient_1.style.background_gradient(cmap='coolwarm')"
   ]
  },
  {
   "cell_type": "code",
   "execution_count": 23,
   "metadata": {},
   "outputs": [
    {
     "data": {
      "text/plain": [
       "5789"
      ]
     },
     "execution_count": 23,
     "metadata": {},
     "output_type": "execute_result"
    }
   ],
   "source": [
    "len(y_pred_gb_test)"
   ]
  },
  {
   "cell_type": "code",
   "execution_count": 17,
   "metadata": {},
   "outputs": [
    {
     "data": {
      "text/html": [
       "<style type=\"text/css\">\n",
       "#T_01810_row0_col0, #T_01810_row0_col1, #T_01810_row0_col2, #T_01810_row1_col3 {\n",
       "  background-color: #b40426;\n",
       "  color: #f1f1f1;\n",
       "}\n",
       "#T_01810_row0_col3, #T_01810_row1_col0, #T_01810_row1_col1, #T_01810_row1_col2 {\n",
       "  background-color: #3b4cc0;\n",
       "  color: #f1f1f1;\n",
       "}\n",
       "</style>\n",
       "<table id=\"T_01810\">\n",
       "  <thead>\n",
       "    <tr>\n",
       "      <th class=\"blank level0\" >&nbsp;</th>\n",
       "      <th id=\"T_01810_level0_col0\" class=\"col_heading level0 col0\" >MAE</th>\n",
       "      <th id=\"T_01810_level0_col1\" class=\"col_heading level0 col1\" >MSE</th>\n",
       "      <th id=\"T_01810_level0_col2\" class=\"col_heading level0 col2\" >RMSE</th>\n",
       "      <th id=\"T_01810_level0_col3\" class=\"col_heading level0 col3\" >R2</th>\n",
       "      <th id=\"T_01810_level0_col4\" class=\"col_heading level0 col4\" >set</th>\n",
       "      <th id=\"T_01810_level0_col5\" class=\"col_heading level0 col5\" >modelo</th>\n",
       "    </tr>\n",
       "  </thead>\n",
       "  <tbody>\n",
       "    <tr>\n",
       "      <th id=\"T_01810_level0_row0\" class=\"row_heading level0 row0\" >0</th>\n",
       "      <td id=\"T_01810_row0_col0\" class=\"data row0 col0\" >0.076179</td>\n",
       "      <td id=\"T_01810_row0_col1\" class=\"data row0 col1\" >0.010066</td>\n",
       "      <td id=\"T_01810_row0_col2\" class=\"data row0 col2\" >0.100330</td>\n",
       "      <td id=\"T_01810_row0_col3\" class=\"data row0 col3\" >0.989660</td>\n",
       "      <td id=\"T_01810_row0_col4\" class=\"data row0 col4\" >test</td>\n",
       "      <td id=\"T_01810_row0_col5\" class=\"data row0 col5\" >Gradient 2</td>\n",
       "    </tr>\n",
       "    <tr>\n",
       "      <th id=\"T_01810_level0_row1\" class=\"row_heading level0 row1\" >1</th>\n",
       "      <td id=\"T_01810_row1_col0\" class=\"data row1 col0\" >0.072913</td>\n",
       "      <td id=\"T_01810_row1_col1\" class=\"data row1 col1\" >0.009292</td>\n",
       "      <td id=\"T_01810_row1_col2\" class=\"data row1 col2\" >0.096398</td>\n",
       "      <td id=\"T_01810_row1_col3\" class=\"data row1 col3\" >0.990591</td>\n",
       "      <td id=\"T_01810_row1_col4\" class=\"data row1 col4\" >train</td>\n",
       "      <td id=\"T_01810_row1_col5\" class=\"data row1 col5\" >Gradient 2</td>\n",
       "    </tr>\n",
       "  </tbody>\n",
       "</table>\n"
      ],
      "text/plain": [
       "<pandas.io.formats.style.Styler at 0x7f9bc0c7dd90>"
      ]
     },
     "execution_count": 17,
     "metadata": {},
     "output_type": "execute_result"
    }
   ],
   "source": [
    "gb = GradientBoostingRegressor(n_estimators=100, learning_rate=0.1, max_depth=5, random_state=0, criterion='squared_error')\n",
    "gb.fit(X_train, y_train)\n",
    "\n",
    "y_pred_gb_test= gb.predict(X_test)\n",
    "y_pred_gb_train= gb.predict(X_train)\n",
    "\n",
    "results_gradient_2 = metricas(y_test, y_train, y_pred_gb_test, y_pred_gb_train, \"Gradient 2\")\n",
    "results_gradient_2.style.background_gradient(cmap='coolwarm')"
   ]
  },
  {
   "cell_type": "code",
   "execution_count": 18,
   "metadata": {},
   "outputs": [
    {
     "data": {
      "text/html": [
       "<style type=\"text/css\">\n",
       "#T_b137e_row0_col0, #T_b137e_row0_col1, #T_b137e_row0_col2, #T_b137e_row1_col3 {\n",
       "  background-color: #b40426;\n",
       "  color: #f1f1f1;\n",
       "}\n",
       "#T_b137e_row0_col3, #T_b137e_row1_col0, #T_b137e_row1_col1, #T_b137e_row1_col2 {\n",
       "  background-color: #3b4cc0;\n",
       "  color: #f1f1f1;\n",
       "}\n",
       "</style>\n",
       "<table id=\"T_b137e\">\n",
       "  <thead>\n",
       "    <tr>\n",
       "      <th class=\"blank level0\" >&nbsp;</th>\n",
       "      <th id=\"T_b137e_level0_col0\" class=\"col_heading level0 col0\" >MAE</th>\n",
       "      <th id=\"T_b137e_level0_col1\" class=\"col_heading level0 col1\" >MSE</th>\n",
       "      <th id=\"T_b137e_level0_col2\" class=\"col_heading level0 col2\" >RMSE</th>\n",
       "      <th id=\"T_b137e_level0_col3\" class=\"col_heading level0 col3\" >R2</th>\n",
       "      <th id=\"T_b137e_level0_col4\" class=\"col_heading level0 col4\" >set</th>\n",
       "      <th id=\"T_b137e_level0_col5\" class=\"col_heading level0 col5\" >modelo</th>\n",
       "    </tr>\n",
       "  </thead>\n",
       "  <tbody>\n",
       "    <tr>\n",
       "      <th id=\"T_b137e_level0_row0\" class=\"row_heading level0 row0\" >0</th>\n",
       "      <td id=\"T_b137e_row0_col0\" class=\"data row0 col0\" >0.074649</td>\n",
       "      <td id=\"T_b137e_row0_col1\" class=\"data row0 col1\" >0.009997</td>\n",
       "      <td id=\"T_b137e_row0_col2\" class=\"data row0 col2\" >0.099986</td>\n",
       "      <td id=\"T_b137e_row0_col3\" class=\"data row0 col3\" >0.989731</td>\n",
       "      <td id=\"T_b137e_row0_col4\" class=\"data row0 col4\" >test</td>\n",
       "      <td id=\"T_b137e_row0_col5\" class=\"data row0 col5\" >Gradient 3</td>\n",
       "    </tr>\n",
       "    <tr>\n",
       "      <th id=\"T_b137e_level0_row1\" class=\"row_heading level0 row1\" >1</th>\n",
       "      <td id=\"T_b137e_row1_col0\" class=\"data row1 col0\" >0.058890</td>\n",
       "      <td id=\"T_b137e_row1_col1\" class=\"data row1 col1\" >0.006233</td>\n",
       "      <td id=\"T_b137e_row1_col2\" class=\"data row1 col2\" >0.078951</td>\n",
       "      <td id=\"T_b137e_row1_col3\" class=\"data row1 col3\" >0.993688</td>\n",
       "      <td id=\"T_b137e_row1_col4\" class=\"data row1 col4\" >train</td>\n",
       "      <td id=\"T_b137e_row1_col5\" class=\"data row1 col5\" >Gradient 3</td>\n",
       "    </tr>\n",
       "  </tbody>\n",
       "</table>\n"
      ],
      "text/plain": [
       "<pandas.io.formats.style.Styler at 0x7f9bb8ba21c0>"
      ]
     },
     "execution_count": 18,
     "metadata": {},
     "output_type": "execute_result"
    }
   ],
   "source": [
    "gb = GradientBoostingRegressor(n_estimators=100, learning_rate=0.1, max_depth=8, random_state=0, criterion='squared_error')\n",
    "gb.fit(X_train, y_train)\n",
    "\n",
    "y_pred_gb_test= gb.predict(X_test)\n",
    "y_pred_gb_train= gb.predict(X_train)\n",
    "\n",
    "results_gradient_3 = metricas(y_test, y_train, y_pred_gb_test, y_pred_gb_train, \"Gradient 3\")\n",
    "results_gradient_3.style.background_gradient(cmap='coolwarm')"
   ]
  },
  {
   "cell_type": "code",
   "execution_count": 21,
   "metadata": {},
   "outputs": [
    {
     "data": {
      "text/html": [
       "<div>\n",
       "<style scoped>\n",
       "    .dataframe tbody tr th:only-of-type {\n",
       "        vertical-align: middle;\n",
       "    }\n",
       "\n",
       "    .dataframe tbody tr th {\n",
       "        vertical-align: top;\n",
       "    }\n",
       "\n",
       "    .dataframe thead th {\n",
       "        text-align: right;\n",
       "    }\n",
       "</style>\n",
       "<table border=\"1\" class=\"dataframe\">\n",
       "  <thead>\n",
       "    <tr style=\"text-align: right;\">\n",
       "      <th></th>\n",
       "      <th>MAE</th>\n",
       "      <th>MSE</th>\n",
       "      <th>RMSE</th>\n",
       "      <th>R2</th>\n",
       "      <th>set</th>\n",
       "      <th>modelo</th>\n",
       "    </tr>\n",
       "  </thead>\n",
       "  <tbody>\n",
       "    <tr>\n",
       "      <th>0</th>\n",
       "      <td>0.077477</td>\n",
       "      <td>0.010887</td>\n",
       "      <td>0.104340</td>\n",
       "      <td>0.988817</td>\n",
       "      <td>test</td>\n",
       "      <td>Gradient 1</td>\n",
       "    </tr>\n",
       "    <tr>\n",
       "      <th>1</th>\n",
       "      <td>0.042378</td>\n",
       "      <td>0.003509</td>\n",
       "      <td>0.059241</td>\n",
       "      <td>0.996447</td>\n",
       "      <td>train</td>\n",
       "      <td>Gradient 1</td>\n",
       "    </tr>\n",
       "    <tr>\n",
       "      <th>0</th>\n",
       "      <td>0.076179</td>\n",
       "      <td>0.010066</td>\n",
       "      <td>0.100330</td>\n",
       "      <td>0.989660</td>\n",
       "      <td>test</td>\n",
       "      <td>Gradient 2</td>\n",
       "    </tr>\n",
       "    <tr>\n",
       "      <th>1</th>\n",
       "      <td>0.072913</td>\n",
       "      <td>0.009292</td>\n",
       "      <td>0.096398</td>\n",
       "      <td>0.990591</td>\n",
       "      <td>train</td>\n",
       "      <td>Gradient 2</td>\n",
       "    </tr>\n",
       "    <tr>\n",
       "      <th>0</th>\n",
       "      <td>0.074649</td>\n",
       "      <td>0.009997</td>\n",
       "      <td>0.099986</td>\n",
       "      <td>0.989731</td>\n",
       "      <td>test</td>\n",
       "      <td>Gradient 3</td>\n",
       "    </tr>\n",
       "    <tr>\n",
       "      <th>1</th>\n",
       "      <td>0.058890</td>\n",
       "      <td>0.006233</td>\n",
       "      <td>0.078951</td>\n",
       "      <td>0.993688</td>\n",
       "      <td>train</td>\n",
       "      <td>Gradient 3</td>\n",
       "    </tr>\n",
       "  </tbody>\n",
       "</table>\n",
       "</div>"
      ],
      "text/plain": [
       "        MAE       MSE      RMSE        R2    set      modelo\n",
       "0  0.077477  0.010887  0.104340  0.988817   test  Gradient 1\n",
       "1  0.042378  0.003509  0.059241  0.996447  train  Gradient 1\n",
       "0  0.076179  0.010066  0.100330  0.989660   test  Gradient 2\n",
       "1  0.072913  0.009292  0.096398  0.990591  train  Gradient 2\n",
       "0  0.074649  0.009997  0.099986  0.989731   test  Gradient 3\n",
       "1  0.058890  0.006233  0.078951  0.993688  train  Gradient 3"
      ]
     },
     "execution_count": 21,
     "metadata": {},
     "output_type": "execute_result"
    }
   ],
   "source": [
    "df_results = pd.concat([results_gradient_1, results_gradient_2, results_gradient_3], axis = 0)\n",
    "df_results"
   ]
  },
  {
   "cell_type": "code",
   "execution_count": null,
   "metadata": {},
   "outputs": [],
   "source": []
  }
 ],
 "metadata": {
  "interpreter": {
   "hash": "81535c40c187213d8173a98c8ffbf422147d8403865cdcdb817e05fa807ec559"
  },
  "kernelspec": {
   "display_name": "Python 3.9.7 ('base')",
   "language": "python",
   "name": "python3"
  },
  "language_info": {
   "codemirror_mode": {
    "name": "ipython",
    "version": 3
   },
   "file_extension": ".py",
   "mimetype": "text/x-python",
   "name": "python",
   "nbconvert_exporter": "python",
   "pygments_lexer": "ipython3",
   "version": "3.9.7"
  },
  "orig_nbformat": 4
 },
 "nbformat": 4,
 "nbformat_minor": 2
}
