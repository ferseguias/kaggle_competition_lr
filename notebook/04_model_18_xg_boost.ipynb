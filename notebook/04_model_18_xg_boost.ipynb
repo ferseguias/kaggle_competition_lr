{
 "cells": [
  {
   "cell_type": "code",
   "execution_count": 10,
   "metadata": {},
   "outputs": [],
   "source": [
    "import pandas as pd\n",
    "import numpy as np\n",
    "from sklearn.model_selection import train_test_split\n",
    "from sklearn.model_selection import GridSearchCV\n",
    "from sklearn import metrics\n",
    "import xgboost as xgb\n",
    "import matplotlib.pyplot as plt\n",
    "plt.style.use('dark_background')"
   ]
  },
  {
   "cell_type": "code",
   "execution_count": 11,
   "metadata": {},
   "outputs": [
    {
     "name": "stdout",
     "output_type": "stream",
     "text": [
      "shape: (36944, 8)\n"
     ]
    },
    {
     "data": {
      "text/html": [
       "<div>\n",
       "<style scoped>\n",
       "    .dataframe tbody tr th:only-of-type {\n",
       "        vertical-align: middle;\n",
       "    }\n",
       "\n",
       "    .dataframe tbody tr th {\n",
       "        vertical-align: top;\n",
       "    }\n",
       "\n",
       "    .dataframe thead th {\n",
       "        text-align: right;\n",
       "    }\n",
       "</style>\n",
       "<table border=\"1\" class=\"dataframe\">\n",
       "  <thead>\n",
       "    <tr style=\"text-align: right;\">\n",
       "      <th></th>\n",
       "      <th>quality</th>\n",
       "      <th>color</th>\n",
       "      <th>clarity</th>\n",
       "      <th>price</th>\n",
       "      <th>weight_ES</th>\n",
       "      <th>depth_percent_ES</th>\n",
       "      <th>table_percent_ES</th>\n",
       "      <th>volume_ES</th>\n",
       "    </tr>\n",
       "  </thead>\n",
       "  <tbody>\n",
       "    <tr>\n",
       "      <th>0</th>\n",
       "      <td>3</td>\n",
       "      <td>6</td>\n",
       "      <td>1</td>\n",
       "      <td>1.848927</td>\n",
       "      <td>-0.625000</td>\n",
       "      <td>0.357143</td>\n",
       "      <td>0.333333</td>\n",
       "      <td>-0.591767</td>\n",
       "    </tr>\n",
       "    <tr>\n",
       "      <th>1</th>\n",
       "      <td>4</td>\n",
       "      <td>5</td>\n",
       "      <td>5</td>\n",
       "      <td>2.217354</td>\n",
       "      <td>0.484375</td>\n",
       "      <td>0.571429</td>\n",
       "      <td>-0.333333</td>\n",
       "      <td>0.550637</td>\n",
       "    </tr>\n",
       "    <tr>\n",
       "      <th>2</th>\n",
       "      <td>4</td>\n",
       "      <td>4</td>\n",
       "      <td>3</td>\n",
       "      <td>2.077314</td>\n",
       "      <td>0.031250</td>\n",
       "      <td>-0.071429</td>\n",
       "      <td>0.666667</td>\n",
       "      <td>0.052269</td>\n",
       "    </tr>\n",
       "    <tr>\n",
       "      <th>3</th>\n",
       "      <td>2</td>\n",
       "      <td>3</td>\n",
       "      <td>1</td>\n",
       "      <td>2.124773</td>\n",
       "      <td>0.593750</td>\n",
       "      <td>0.928571</td>\n",
       "      <td>0.000000</td>\n",
       "      <td>0.624043</td>\n",
       "    </tr>\n",
       "    <tr>\n",
       "      <th>4</th>\n",
       "      <td>3</td>\n",
       "      <td>3</td>\n",
       "      <td>4</td>\n",
       "      <td>1.885250</td>\n",
       "      <td>-0.531250</td>\n",
       "      <td>0.285714</td>\n",
       "      <td>0.666667</td>\n",
       "      <td>-0.511469</td>\n",
       "    </tr>\n",
       "  </tbody>\n",
       "</table>\n",
       "</div>"
      ],
      "text/plain": [
       "   quality  color  clarity     price  weight_ES  depth_percent_ES  \\\n",
       "0        3      6        1  1.848927  -0.625000          0.357143   \n",
       "1        4      5        5  2.217354   0.484375          0.571429   \n",
       "2        4      4        3  2.077314   0.031250         -0.071429   \n",
       "3        2      3        1  2.124773   0.593750          0.928571   \n",
       "4        3      3        4  1.885250  -0.531250          0.285714   \n",
       "\n",
       "   table_percent_ES  volume_ES  \n",
       "0          0.333333  -0.591767  \n",
       "1         -0.333333   0.550637  \n",
       "2          0.666667   0.052269  \n",
       "3          0.000000   0.624043  \n",
       "4          0.666667  -0.511469  "
      ]
     },
     "execution_count": 11,
     "metadata": {},
     "output_type": "execute_result"
    }
   ],
   "source": [
    "df = pd.read_csv('../data/train_data_encoded_full_1.csv')\n",
    "df.price = np.log(df.price)\n",
    "print('shape:', df.shape)\n",
    "df.head(5)"
   ]
  },
  {
   "cell_type": "code",
   "execution_count": 12,
   "metadata": {},
   "outputs": [],
   "source": [
    "X = df.drop([\"price\"], axis = 1)\n",
    "y = df['price']\n",
    "\n",
    "X_train, X_test, y_train, y_test = train_test_split(X, y, train_size   = 0.8, random_state = 42)\n",
    "\n",
    "def metricas(y_test, y_train, y_test_pred, y_train_pred, tipo_modelo):\n",
    "    resultados = {'MAE': [metrics.mean_absolute_error(y_test, y_test_pred), metrics.mean_absolute_error(y_train, y_train_pred)],\n",
    "                'MSE': [metrics.mean_squared_error(y_test, y_test_pred), metrics.mean_squared_error(y_train, y_train_pred)],\n",
    "                'RMSE': [np.sqrt(metrics.mean_squared_error(y_test, y_test_pred)), np.sqrt(metrics.mean_squared_error(y_train, y_train_pred))],\n",
    "                'R2':  [metrics.r2_score(y_test, y_test_pred), metrics.r2_score(y_train, y_train_pred)],\n",
    "                 \"set\": [\"test\", \"train\"]}\n",
    "    df = pd.DataFrame(resultados)\n",
    "    df[\"modelo\"] = tipo_modelo\n",
    "    return df"
   ]
  },
  {
   "cell_type": "code",
   "execution_count": 13,
   "metadata": {},
   "outputs": [
    {
     "name": "stdout",
     "output_type": "stream",
     "text": [
      "Fitting 5 folds for each of 2 candidates, totalling 10 fits\n",
      "[CV 1/5] END colsample_bytree=0.9, learning_rate=0.02, max_depth=7, n_estimators=750;, score=-0.000 total time=  17.0s\n",
      "[CV 4/5] END colsample_bytree=0.9, learning_rate=0.02, max_depth=7, n_estimators=750;, score=-0.000 total time=  16.9s\n",
      "[CV 3/5] END colsample_bytree=0.9, learning_rate=0.02, max_depth=7, n_estimators=750;, score=-0.000 total time=  16.9s\n",
      "[CV 5/5] END colsample_bytree=0.9, learning_rate=0.02, max_depth=7, n_estimators=750;, score=-0.000 total time=  16.9s\n",
      "[CV 2/5] END colsample_bytree=0.9, learning_rate=0.02, max_depth=7, n_estimators=750;, score=-0.000 total time=  17.4s\n",
      "[CV 3/5] END colsample_bytree=1, learning_rate=0.02, max_depth=7, n_estimators=750;, score=-0.000 total time=  18.1s\n",
      "[CV 1/5] END colsample_bytree=1, learning_rate=0.02, max_depth=7, n_estimators=750;, score=-0.000 total time=  18.6s\n",
      "[CV 2/5] END colsample_bytree=1, learning_rate=0.02, max_depth=7, n_estimators=750;, score=-0.000 total time=  18.6s\n",
      "[CV 4/5] END colsample_bytree=1, learning_rate=0.02, max_depth=7, n_estimators=750;, score=-0.000 total time=  12.0s\n",
      "[CV 5/5] END colsample_bytree=1, learning_rate=0.02, max_depth=7, n_estimators=750;, score=-0.000 total time=  12.0s\n",
      "Best parameters: {'colsample_bytree': 0.9, 'learning_rate': 0.02, 'max_depth': 7, 'n_estimators': 750}\n",
      "Lowest RMSE:  0.01295553999415978\n"
     ]
    },
    {
     "data": {
      "text/html": [
       "<style type=\"text/css\">\n",
       "#T_07819_row0_col0, #T_07819_row0_col1, #T_07819_row0_col2, #T_07819_row1_col3 {\n",
       "  background-color: #b40426;\n",
       "  color: #f1f1f1;\n",
       "}\n",
       "#T_07819_row0_col3, #T_07819_row1_col0, #T_07819_row1_col1, #T_07819_row1_col2 {\n",
       "  background-color: #3b4cc0;\n",
       "  color: #f1f1f1;\n",
       "}\n",
       "</style>\n",
       "<table id=\"T_07819\">\n",
       "  <thead>\n",
       "    <tr>\n",
       "      <th class=\"blank level0\" >&nbsp;</th>\n",
       "      <th id=\"T_07819_level0_col0\" class=\"col_heading level0 col0\" >MAE</th>\n",
       "      <th id=\"T_07819_level0_col1\" class=\"col_heading level0 col1\" >MSE</th>\n",
       "      <th id=\"T_07819_level0_col2\" class=\"col_heading level0 col2\" >RMSE</th>\n",
       "      <th id=\"T_07819_level0_col3\" class=\"col_heading level0 col3\" >R2</th>\n",
       "      <th id=\"T_07819_level0_col4\" class=\"col_heading level0 col4\" >set</th>\n",
       "      <th id=\"T_07819_level0_col5\" class=\"col_heading level0 col5\" >modelo</th>\n",
       "    </tr>\n",
       "  </thead>\n",
       "  <tbody>\n",
       "    <tr>\n",
       "      <th id=\"T_07819_level0_row0\" class=\"row_heading level0 row0\" >0</th>\n",
       "      <td id=\"T_07819_row0_col0\" class=\"data row0 col0\" >0.009495</td>\n",
       "      <td id=\"T_07819_row0_col1\" class=\"data row0 col1\" >0.000162</td>\n",
       "      <td id=\"T_07819_row0_col2\" class=\"data row0 col2\" >0.012740</td>\n",
       "      <td id=\"T_07819_row0_col3\" class=\"data row0 col3\" >0.990107</td>\n",
       "      <td id=\"T_07819_row0_col4\" class=\"data row0 col4\" >test</td>\n",
       "      <td id=\"T_07819_row0_col5\" class=\"data row0 col5\" >XG Boost GridSearch</td>\n",
       "    </tr>\n",
       "    <tr>\n",
       "      <th id=\"T_07819_level0_row1\" class=\"row_heading level0 row1\" >1</th>\n",
       "      <td id=\"T_07819_row1_col0\" class=\"data row1 col0\" >0.008560</td>\n",
       "      <td id=\"T_07819_row1_col1\" class=\"data row1 col1\" >0.000131</td>\n",
       "      <td id=\"T_07819_row1_col2\" class=\"data row1 col2\" >0.011434</td>\n",
       "      <td id=\"T_07819_row1_col3\" class=\"data row1 col3\" >0.991925</td>\n",
       "      <td id=\"T_07819_row1_col4\" class=\"data row1 col4\" >train</td>\n",
       "      <td id=\"T_07819_row1_col5\" class=\"data row1 col5\" >XG Boost GridSearch</td>\n",
       "    </tr>\n",
       "  </tbody>\n",
       "</table>\n"
      ],
      "text/plain": [
       "<pandas.io.formats.style.Styler at 0x7f8ee9617760>"
      ]
     },
     "execution_count": 13,
     "metadata": {},
     "output_type": "execute_result"
    }
   ],
   "source": [
    "params = { 'max_depth': [7],\n",
    "           'learning_rate': [0.02],\n",
    "           'n_estimators': [750],\n",
    "           'colsample_bytree': [0.9, 1]}\n",
    "xgbr = xgb.XGBRegressor(seed = 20, objective ='reg:squarederror')\n",
    "clf = GridSearchCV(estimator=xgbr, \n",
    "                   param_grid=params,\n",
    "                   scoring='neg_mean_squared_error', \n",
    "                   verbose=3,\n",
    "                   n_jobs=-1)\n",
    "clf.fit(X_train, y_train)\n",
    "\n",
    "print(\"Best parameters:\", clf.best_params_)\n",
    "print(\"Lowest RMSE: \", (-clf.best_score_)**(1/2.0))\n",
    "\n",
    "y_pred_gb_test = clf.predict(X_test)\n",
    "y_pred_gb_train= clf.predict(X_train)\n",
    "\n",
    "results_xg_boost = metricas(y_test, y_train, y_pred_gb_test, y_pred_gb_train, \"XG Boost GridSearch\")\n",
    "results_xg_boost.style.background_gradient(cmap='coolwarm')"
   ]
  },
  {
   "cell_type": "code",
   "execution_count": null,
   "metadata": {},
   "outputs": [],
   "source": []
  }
 ],
 "metadata": {
  "interpreter": {
   "hash": "81535c40c187213d8173a98c8ffbf422147d8403865cdcdb817e05fa807ec559"
  },
  "kernelspec": {
   "display_name": "Python 3.9.7 ('base')",
   "language": "python",
   "name": "python3"
  },
  "language_info": {
   "codemirror_mode": {
    "name": "ipython",
    "version": 3
   },
   "file_extension": ".py",
   "mimetype": "text/x-python",
   "name": "python",
   "nbconvert_exporter": "python",
   "pygments_lexer": "ipython3",
   "version": "3.9.7"
  },
  "orig_nbformat": 4
 },
 "nbformat": 4,
 "nbformat_minor": 2
}
