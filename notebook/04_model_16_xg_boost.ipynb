{
 "cells": [
  {
   "cell_type": "code",
   "execution_count": 99,
   "metadata": {},
   "outputs": [],
   "source": [
    "import pandas as pd\n",
    "import numpy as np\n",
    "from sklearn.model_selection import train_test_split\n",
    "from sklearn.ensemble import GradientBoostingRegressor\n",
    "from sklearn import metrics\n",
    "import xgboost as xgb\n",
    "import matplotlib.pyplot as plt\n",
    "plt.style.use('dark_background')"
   ]
  },
  {
   "cell_type": "code",
   "execution_count": 100,
   "metadata": {},
   "outputs": [
    {
     "name": "stdout",
     "output_type": "stream",
     "text": [
      "shape: (36944, 8)\n"
     ]
    },
    {
     "data": {
      "text/html": [
       "<div>\n",
       "<style scoped>\n",
       "    .dataframe tbody tr th:only-of-type {\n",
       "        vertical-align: middle;\n",
       "    }\n",
       "\n",
       "    .dataframe tbody tr th {\n",
       "        vertical-align: top;\n",
       "    }\n",
       "\n",
       "    .dataframe thead th {\n",
       "        text-align: right;\n",
       "    }\n",
       "</style>\n",
       "<table border=\"1\" class=\"dataframe\">\n",
       "  <thead>\n",
       "    <tr style=\"text-align: right;\">\n",
       "      <th></th>\n",
       "      <th>quality</th>\n",
       "      <th>color</th>\n",
       "      <th>clarity</th>\n",
       "      <th>price</th>\n",
       "      <th>weight_ES</th>\n",
       "      <th>depth_percent_ES</th>\n",
       "      <th>table_percent_ES</th>\n",
       "      <th>volume_ES</th>\n",
       "    </tr>\n",
       "  </thead>\n",
       "  <tbody>\n",
       "    <tr>\n",
       "      <th>0</th>\n",
       "      <td>3</td>\n",
       "      <td>6</td>\n",
       "      <td>1</td>\n",
       "      <td>1.848927</td>\n",
       "      <td>-0.625000</td>\n",
       "      <td>0.357143</td>\n",
       "      <td>0.333333</td>\n",
       "      <td>-0.591767</td>\n",
       "    </tr>\n",
       "    <tr>\n",
       "      <th>1</th>\n",
       "      <td>4</td>\n",
       "      <td>5</td>\n",
       "      <td>5</td>\n",
       "      <td>2.217354</td>\n",
       "      <td>0.484375</td>\n",
       "      <td>0.571429</td>\n",
       "      <td>-0.333333</td>\n",
       "      <td>0.550637</td>\n",
       "    </tr>\n",
       "    <tr>\n",
       "      <th>2</th>\n",
       "      <td>4</td>\n",
       "      <td>4</td>\n",
       "      <td>3</td>\n",
       "      <td>2.077314</td>\n",
       "      <td>0.031250</td>\n",
       "      <td>-0.071429</td>\n",
       "      <td>0.666667</td>\n",
       "      <td>0.052269</td>\n",
       "    </tr>\n",
       "    <tr>\n",
       "      <th>3</th>\n",
       "      <td>2</td>\n",
       "      <td>3</td>\n",
       "      <td>1</td>\n",
       "      <td>2.124773</td>\n",
       "      <td>0.593750</td>\n",
       "      <td>0.928571</td>\n",
       "      <td>0.000000</td>\n",
       "      <td>0.624043</td>\n",
       "    </tr>\n",
       "    <tr>\n",
       "      <th>4</th>\n",
       "      <td>3</td>\n",
       "      <td>3</td>\n",
       "      <td>4</td>\n",
       "      <td>1.885250</td>\n",
       "      <td>-0.531250</td>\n",
       "      <td>0.285714</td>\n",
       "      <td>0.666667</td>\n",
       "      <td>-0.511469</td>\n",
       "    </tr>\n",
       "  </tbody>\n",
       "</table>\n",
       "</div>"
      ],
      "text/plain": [
       "   quality  color  clarity     price  weight_ES  depth_percent_ES  \\\n",
       "0        3      6        1  1.848927  -0.625000          0.357143   \n",
       "1        4      5        5  2.217354   0.484375          0.571429   \n",
       "2        4      4        3  2.077314   0.031250         -0.071429   \n",
       "3        2      3        1  2.124773   0.593750          0.928571   \n",
       "4        3      3        4  1.885250  -0.531250          0.285714   \n",
       "\n",
       "   table_percent_ES  volume_ES  \n",
       "0          0.333333  -0.591767  \n",
       "1         -0.333333   0.550637  \n",
       "2          0.666667   0.052269  \n",
       "3          0.000000   0.624043  \n",
       "4          0.666667  -0.511469  "
      ]
     },
     "execution_count": 100,
     "metadata": {},
     "output_type": "execute_result"
    }
   ],
   "source": [
    "df = pd.read_csv('../data/train_data_encoded_full_1.csv')\n",
    "df.price = np.log(df.price)\n",
    "print('shape:', df.shape)\n",
    "df.head(5)"
   ]
  },
  {
   "cell_type": "code",
   "execution_count": 101,
   "metadata": {},
   "outputs": [
    {
     "data": {
      "text/plain": [
       "quality             0\n",
       "color               0\n",
       "clarity             0\n",
       "price               0\n",
       "weight_ES           0\n",
       "depth_percent_ES    0\n",
       "table_percent_ES    0\n",
       "volume_ES           0\n",
       "dtype: int64"
      ]
     },
     "execution_count": 101,
     "metadata": {},
     "output_type": "execute_result"
    }
   ],
   "source": [
    "df.isna().sum()"
   ]
  },
  {
   "cell_type": "code",
   "execution_count": 102,
   "metadata": {},
   "outputs": [
    {
     "name": "stdout",
     "output_type": "stream",
     "text": [
      "Datos de entrenamiento\n",
      "-----------------------\n",
      "count    29555.000000\n",
      "mean         2.033492\n",
      "std          0.127236\n",
      "min          1.760269\n",
      "25%          1.918245\n",
      "50%          2.039791\n",
      "75%          2.140654\n",
      "max          2.286659\n",
      "Name: price, dtype: float64\n",
      "\n",
      "\n",
      "Datos de testeo\n",
      "-----------------------\n",
      "count    7389.000000\n",
      "mean        2.033002\n",
      "std         0.128096\n",
      "min         1.755614\n",
      "25%         1.917217\n",
      "50%         2.040571\n",
      "75%         2.141359\n",
      "max         2.286557\n",
      "Name: price, dtype: float64\n"
     ]
    }
   ],
   "source": [
    "#split dara train and test\n",
    "X = df.drop([\"price\"], axis = 1)\n",
    "y = df['price']\n",
    "\n",
    "X_train, X_test, y_train, y_test = train_test_split(X, y, train_size   = 0.8, random_state = 42)\n",
    "\n",
    "print(\"Datos de entrenamiento\")\n",
    "print(\"-----------------------\")\n",
    "print(y_train.describe())\n",
    "print('\\n')\n",
    "print(\"Datos de testeo\")\n",
    "print(\"-----------------------\")\n",
    "print(y_test.describe())"
   ]
  },
  {
   "cell_type": "code",
   "execution_count": 103,
   "metadata": {},
   "outputs": [],
   "source": [
    "def metricas(y_test, y_train, y_test_pred, y_train_pred, tipo_modelo):\n",
    "    resultados = {'MAE': [metrics.mean_absolute_error(y_test, y_test_pred), metrics.mean_absolute_error(y_train, y_train_pred)],\n",
    "                'MSE': [metrics.mean_squared_error(y_test, y_test_pred), metrics.mean_squared_error(y_train, y_train_pred)],\n",
    "                'RMSE': [np.sqrt(metrics.mean_squared_error(y_test, y_test_pred)), np.sqrt(metrics.mean_squared_error(y_train, y_train_pred))],\n",
    "                'R2':  [metrics.r2_score(y_test, y_test_pred), metrics.r2_score(y_train, y_train_pred)],\n",
    "                 \"set\": [\"test\", \"train\"]}\n",
    "    df = pd.DataFrame(resultados)\n",
    "    df[\"modelo\"] = tipo_modelo\n",
    "    return df"
   ]
  },
  {
   "cell_type": "code",
   "execution_count": 104,
   "metadata": {},
   "outputs": [
    {
     "data": {
      "text/html": [
       "<style type=\"text/css\">\n",
       "#T_9c581_row0_col0, #T_9c581_row0_col1, #T_9c581_row0_col2, #T_9c581_row1_col3 {\n",
       "  background-color: #b40426;\n",
       "  color: #f1f1f1;\n",
       "}\n",
       "#T_9c581_row0_col3, #T_9c581_row1_col0, #T_9c581_row1_col1, #T_9c581_row1_col2 {\n",
       "  background-color: #3b4cc0;\n",
       "  color: #f1f1f1;\n",
       "}\n",
       "</style>\n",
       "<table id=\"T_9c581\">\n",
       "  <thead>\n",
       "    <tr>\n",
       "      <th class=\"blank level0\" >&nbsp;</th>\n",
       "      <th id=\"T_9c581_level0_col0\" class=\"col_heading level0 col0\" >MAE</th>\n",
       "      <th id=\"T_9c581_level0_col1\" class=\"col_heading level0 col1\" >MSE</th>\n",
       "      <th id=\"T_9c581_level0_col2\" class=\"col_heading level0 col2\" >RMSE</th>\n",
       "      <th id=\"T_9c581_level0_col3\" class=\"col_heading level0 col3\" >R2</th>\n",
       "      <th id=\"T_9c581_level0_col4\" class=\"col_heading level0 col4\" >set</th>\n",
       "      <th id=\"T_9c581_level0_col5\" class=\"col_heading level0 col5\" >modelo</th>\n",
       "    </tr>\n",
       "  </thead>\n",
       "  <tbody>\n",
       "    <tr>\n",
       "      <th id=\"T_9c581_level0_row0\" class=\"row_heading level0 row0\" >0</th>\n",
       "      <td id=\"T_9c581_row0_col0\" class=\"data row0 col0\" >0.010742</td>\n",
       "      <td id=\"T_9c581_row0_col1\" class=\"data row0 col1\" >0.000203</td>\n",
       "      <td id=\"T_9c581_row0_col2\" class=\"data row0 col2\" >0.014256</td>\n",
       "      <td id=\"T_9c581_row0_col3\" class=\"data row0 col3\" >0.987613</td>\n",
       "      <td id=\"T_9c581_row0_col4\" class=\"data row0 col4\" >test</td>\n",
       "      <td id=\"T_9c581_row0_col5\" class=\"data row0 col5\" >XG Boost 1</td>\n",
       "    </tr>\n",
       "    <tr>\n",
       "      <th id=\"T_9c581_level0_row1\" class=\"row_heading level0 row1\" >1</th>\n",
       "      <td id=\"T_9c581_row1_col0\" class=\"data row1 col0\" >0.007236</td>\n",
       "      <td id=\"T_9c581_row1_col1\" class=\"data row1 col1\" >0.000096</td>\n",
       "      <td id=\"T_9c581_row1_col2\" class=\"data row1 col2\" >0.009812</td>\n",
       "      <td id=\"T_9c581_row1_col3\" class=\"data row1 col3\" >0.994053</td>\n",
       "      <td id=\"T_9c581_row1_col4\" class=\"data row1 col4\" >train</td>\n",
       "      <td id=\"T_9c581_row1_col5\" class=\"data row1 col5\" >XG Boost 1</td>\n",
       "    </tr>\n",
       "  </tbody>\n",
       "</table>\n"
      ],
      "text/plain": [
       "<pandas.io.formats.style.Styler at 0x7faf12d89ac0>"
      ]
     },
     "execution_count": 104,
     "metadata": {},
     "output_type": "execute_result"
    }
   ],
   "source": [
    "data_dmatrix = xgb.DMatrix(data=X,label=y)\n",
    "xg_reg = xgb.XGBRegressor(objective ='reg:squarederror', colsample_bytree = 0.5, learning_rate = 0.1, max_depth = 12, n_estimators = 100)\n",
    "xg_reg.fit(X_train,y_train)\n",
    "\n",
    "y_pred_gb_test = xg_reg.predict(X_test)\n",
    "y_pred_gb_train= xg_reg.predict(X_train)\n",
    "\n",
    "results_xg_boost_1 = metricas(y_test, y_train, y_pred_gb_test, y_pred_gb_train, \"XG Boost 1\")\n",
    "results_xg_boost_1.style.background_gradient(cmap='coolwarm')"
   ]
  },
  {
   "cell_type": "code",
   "execution_count": 105,
   "metadata": {},
   "outputs": [
    {
     "data": {
      "image/png": "[encoded data removed]",
      "text/plain": [
       "<Figure size 576x216 with 1 Axes>"
      ]
     },
     "metadata": {},
     "output_type": "display_data"
    }
   ],
   "source": [
    "xgb.plot_importance(xg_reg)\n",
    "plt.rcParams['figure.figsize'] = [8, 3]\n",
    "plt.show()"
   ]
  },
  {
   "cell_type": "code",
   "execution_count": 106,
   "metadata": {},
   "outputs": [
    {
     "data": {
      "text/html": [
       "<style type=\"text/css\">\n",
       "#T_686d9_row0_col0, #T_686d9_row0_col1, #T_686d9_row0_col2, #T_686d9_row1_col3 {\n",
       "  background-color: #b40426;\n",
       "  color: #f1f1f1;\n",
       "}\n",
       "#T_686d9_row0_col3, #T_686d9_row1_col0, #T_686d9_row1_col1, #T_686d9_row1_col2 {\n",
       "  background-color: #3b4cc0;\n",
       "  color: #f1f1f1;\n",
       "}\n",
       "</style>\n",
       "<table id=\"T_686d9\">\n",
       "  <thead>\n",
       "    <tr>\n",
       "      <th class=\"blank level0\" >&nbsp;</th>\n",
       "      <th id=\"T_686d9_level0_col0\" class=\"col_heading level0 col0\" >MAE</th>\n",
       "      <th id=\"T_686d9_level0_col1\" class=\"col_heading level0 col1\" >MSE</th>\n",
       "      <th id=\"T_686d9_level0_col2\" class=\"col_heading level0 col2\" >RMSE</th>\n",
       "      <th id=\"T_686d9_level0_col3\" class=\"col_heading level0 col3\" >R2</th>\n",
       "      <th id=\"T_686d9_level0_col4\" class=\"col_heading level0 col4\" >set</th>\n",
       "      <th id=\"T_686d9_level0_col5\" class=\"col_heading level0 col5\" >modelo</th>\n",
       "    </tr>\n",
       "  </thead>\n",
       "  <tbody>\n",
       "    <tr>\n",
       "      <th id=\"T_686d9_level0_row0\" class=\"row_heading level0 row0\" >0</th>\n",
       "      <td id=\"T_686d9_row0_col0\" class=\"data row0 col0\" >0.010324</td>\n",
       "      <td id=\"T_686d9_row0_col1\" class=\"data row0 col1\" >0.000191</td>\n",
       "      <td id=\"T_686d9_row0_col2\" class=\"data row0 col2\" >0.013804</td>\n",
       "      <td id=\"T_686d9_row0_col3\" class=\"data row0 col3\" >0.988385</td>\n",
       "      <td id=\"T_686d9_row0_col4\" class=\"data row0 col4\" >test</td>\n",
       "      <td id=\"T_686d9_row0_col5\" class=\"data row0 col5\" >XG Boost 1</td>\n",
       "    </tr>\n",
       "    <tr>\n",
       "      <th id=\"T_686d9_level0_row1\" class=\"row_heading level0 row1\" >1</th>\n",
       "      <td id=\"T_686d9_row1_col0\" class=\"data row1 col0\" >0.007141</td>\n",
       "      <td id=\"T_686d9_row1_col1\" class=\"data row1 col1\" >0.000093</td>\n",
       "      <td id=\"T_686d9_row1_col2\" class=\"data row1 col2\" >0.009657</td>\n",
       "      <td id=\"T_686d9_row1_col3\" class=\"data row1 col3\" >0.994239</td>\n",
       "      <td id=\"T_686d9_row1_col4\" class=\"data row1 col4\" >train</td>\n",
       "      <td id=\"T_686d9_row1_col5\" class=\"data row1 col5\" >XG Boost 1</td>\n",
       "    </tr>\n",
       "  </tbody>\n",
       "</table>\n"
      ],
      "text/plain": [
       "<pandas.io.formats.style.Styler at 0x7faf14a70ca0>"
      ]
     },
     "execution_count": 106,
     "metadata": {},
     "output_type": "execute_result"
    }
   ],
   "source": [
    "df1 = df.drop(['table_percent_ES'], axis=1)\n",
    "#split dara train and test\n",
    "X = df1.drop([\"price\"], axis = 1)\n",
    "y = df1['price']\n",
    "X_train, X_test, y_train, y_test = train_test_split(X, y, train_size   = 0.8, random_state = 42)\n",
    "#model\n",
    "data_dmatrix = xgb.DMatrix(data=X,label=y)\n",
    "xg_reg = xgb.XGBRegressor(objective ='reg:squarederror', colsample_bytree = 0.5, learning_rate = 0.1, max_depth = 12, n_estimators = 100)\n",
    "xg_reg.fit(X_train,y_train)\n",
    "\n",
    "y_pred_gb_test = xg_reg.predict(X_test)\n",
    "y_pred_gb_train= xg_reg.predict(X_train)\n",
    "\n",
    "results_xg_boost_1 = metricas(y_test, y_train, y_pred_gb_test, y_pred_gb_train, \"XG Boost 1\")\n",
    "results_xg_boost_1.style.background_gradient(cmap='coolwarm')"
   ]
  },
  {
   "cell_type": "code",
   "execution_count": 107,
   "metadata": {},
   "outputs": [
    {
     "data": {
      "image/png": "[encoded data removed]",
      "text/plain": [
       "<Figure size 576x216 with 1 Axes>"
      ]
     },
     "metadata": {},
     "output_type": "display_data"
    }
   ],
   "source": [
    "xgb.plot_importance(xg_reg)\n",
    "plt.rcParams['figure.figsize'] = [8, 3]\n",
    "plt.show()"
   ]
  },
  {
   "cell_type": "code",
   "execution_count": 108,
   "metadata": {},
   "outputs": [
    {
     "data": {
      "text/html": [
       "<style type=\"text/css\">\n",
       "#T_86f9d_row0_col0, #T_86f9d_row0_col1, #T_86f9d_row0_col2, #T_86f9d_row1_col3 {\n",
       "  background-color: #b40426;\n",
       "  color: #f1f1f1;\n",
       "}\n",
       "#T_86f9d_row0_col3, #T_86f9d_row1_col0, #T_86f9d_row1_col1, #T_86f9d_row1_col2 {\n",
       "  background-color: #3b4cc0;\n",
       "  color: #f1f1f1;\n",
       "}\n",
       "</style>\n",
       "<table id=\"T_86f9d\">\n",
       "  <thead>\n",
       "    <tr>\n",
       "      <th class=\"blank level0\" >&nbsp;</th>\n",
       "      <th id=\"T_86f9d_level0_col0\" class=\"col_heading level0 col0\" >MAE</th>\n",
       "      <th id=\"T_86f9d_level0_col1\" class=\"col_heading level0 col1\" >MSE</th>\n",
       "      <th id=\"T_86f9d_level0_col2\" class=\"col_heading level0 col2\" >RMSE</th>\n",
       "      <th id=\"T_86f9d_level0_col3\" class=\"col_heading level0 col3\" >R2</th>\n",
       "      <th id=\"T_86f9d_level0_col4\" class=\"col_heading level0 col4\" >set</th>\n",
       "      <th id=\"T_86f9d_level0_col5\" class=\"col_heading level0 col5\" >modelo</th>\n",
       "    </tr>\n",
       "  </thead>\n",
       "  <tbody>\n",
       "    <tr>\n",
       "      <th id=\"T_86f9d_level0_row0\" class=\"row_heading level0 row0\" >0</th>\n",
       "      <td id=\"T_86f9d_row0_col0\" class=\"data row0 col0\" >0.010422</td>\n",
       "      <td id=\"T_86f9d_row0_col1\" class=\"data row0 col1\" >0.000194</td>\n",
       "      <td id=\"T_86f9d_row0_col2\" class=\"data row0 col2\" >0.013911</td>\n",
       "      <td id=\"T_86f9d_row0_col3\" class=\"data row0 col3\" >0.988204</td>\n",
       "      <td id=\"T_86f9d_row0_col4\" class=\"data row0 col4\" >test</td>\n",
       "      <td id=\"T_86f9d_row0_col5\" class=\"data row0 col5\" >XG Boost 1</td>\n",
       "    </tr>\n",
       "    <tr>\n",
       "      <th id=\"T_86f9d_level0_row1\" class=\"row_heading level0 row1\" >1</th>\n",
       "      <td id=\"T_86f9d_row1_col0\" class=\"data row1 col0\" >0.007608</td>\n",
       "      <td id=\"T_86f9d_row1_col1\" class=\"data row1 col1\" >0.000105</td>\n",
       "      <td id=\"T_86f9d_row1_col2\" class=\"data row1 col2\" >0.010234</td>\n",
       "      <td id=\"T_86f9d_row1_col3\" class=\"data row1 col3\" >0.993530</td>\n",
       "      <td id=\"T_86f9d_row1_col4\" class=\"data row1 col4\" >train</td>\n",
       "      <td id=\"T_86f9d_row1_col5\" class=\"data row1 col5\" >XG Boost 1</td>\n",
       "    </tr>\n",
       "  </tbody>\n",
       "</table>\n"
      ],
      "text/plain": [
       "<pandas.io.formats.style.Styler at 0x7faf22531100>"
      ]
     },
     "execution_count": 108,
     "metadata": {},
     "output_type": "execute_result"
    }
   ],
   "source": [
    "df2 = df.drop(['depth_percent_ES'], axis=1)\n",
    "#split dara train and test\n",
    "X = df2.drop([\"price\"], axis = 1)\n",
    "y = df2['price']\n",
    "X_train, X_test, y_train, y_test = train_test_split(X, y, train_size   = 0.8, random_state = 42)\n",
    "#model\n",
    "data_dmatrix = xgb.DMatrix(data=X,label=y)\n",
    "xg_reg = xgb.XGBRegressor(objective ='reg:squarederror', colsample_bytree = 0.5, learning_rate = 0.1, max_depth = 12, n_estimators = 100)\n",
    "xg_reg.fit(X_train,y_train)\n",
    "\n",
    "y_pred_gb_test = xg_reg.predict(X_test)\n",
    "y_pred_gb_train= xg_reg.predict(X_train)\n",
    "\n",
    "results_xg_boost_1 = metricas(y_test, y_train, y_pred_gb_test, y_pred_gb_train, \"XG Boost 1\")\n",
    "results_xg_boost_1.style.background_gradient(cmap='coolwarm')"
   ]
  },
  {
   "cell_type": "code",
   "execution_count": 109,
   "metadata": {},
   "outputs": [
    {
     "data": {
      "image/png": "[encoded data removed]",
      "text/plain": [
       "<Figure size 576x216 with 1 Axes>"
      ]
     },
     "metadata": {},
     "output_type": "display_data"
    }
   ],
   "source": [
    "xgb.plot_importance(xg_reg)\n",
    "plt.rcParams['figure.figsize'] = [8, 3]\n",
    "plt.show()"
   ]
  },
  {
   "cell_type": "code",
   "execution_count": 121,
   "metadata": {},
   "outputs": [
    {
     "data": {
      "text/html": [
       "<style type=\"text/css\">\n",
       "#T_3d573_row0_col0, #T_3d573_row0_col1, #T_3d573_row0_col2, #T_3d573_row1_col3 {\n",
       "  background-color: #b40426;\n",
       "  color: #f1f1f1;\n",
       "}\n",
       "#T_3d573_row0_col3, #T_3d573_row1_col0, #T_3d573_row1_col1, #T_3d573_row1_col2 {\n",
       "  background-color: #3b4cc0;\n",
       "  color: #f1f1f1;\n",
       "}\n",
       "</style>\n",
       "<table id=\"T_3d573\">\n",
       "  <thead>\n",
       "    <tr>\n",
       "      <th class=\"blank level0\" >&nbsp;</th>\n",
       "      <th id=\"T_3d573_level0_col0\" class=\"col_heading level0 col0\" >MAE</th>\n",
       "      <th id=\"T_3d573_level0_col1\" class=\"col_heading level0 col1\" >MSE</th>\n",
       "      <th id=\"T_3d573_level0_col2\" class=\"col_heading level0 col2\" >RMSE</th>\n",
       "      <th id=\"T_3d573_level0_col3\" class=\"col_heading level0 col3\" >R2</th>\n",
       "      <th id=\"T_3d573_level0_col4\" class=\"col_heading level0 col4\" >set</th>\n",
       "      <th id=\"T_3d573_level0_col5\" class=\"col_heading level0 col5\" >modelo</th>\n",
       "    </tr>\n",
       "  </thead>\n",
       "  <tbody>\n",
       "    <tr>\n",
       "      <th id=\"T_3d573_level0_row0\" class=\"row_heading level0 row0\" >0</th>\n",
       "      <td id=\"T_3d573_row0_col0\" class=\"data row0 col0\" >0.011502</td>\n",
       "      <td id=\"T_3d573_row0_col1\" class=\"data row0 col1\" >0.000235</td>\n",
       "      <td id=\"T_3d573_row0_col2\" class=\"data row0 col2\" >0.015331</td>\n",
       "      <td id=\"T_3d573_row0_col3\" class=\"data row0 col3\" >0.985673</td>\n",
       "      <td id=\"T_3d573_row0_col4\" class=\"data row0 col4\" >test</td>\n",
       "      <td id=\"T_3d573_row0_col5\" class=\"data row0 col5\" >XG Boost 1</td>\n",
       "    </tr>\n",
       "    <tr>\n",
       "      <th id=\"T_3d573_level0_row1\" class=\"row_heading level0 row1\" >1</th>\n",
       "      <td id=\"T_3d573_row1_col0\" class=\"data row1 col0\" >0.007586</td>\n",
       "      <td id=\"T_3d573_row1_col1\" class=\"data row1 col1\" >0.000104</td>\n",
       "      <td id=\"T_3d573_row1_col2\" class=\"data row1 col2\" >0.010221</td>\n",
       "      <td id=\"T_3d573_row1_col3\" class=\"data row1 col3\" >0.993547</td>\n",
       "      <td id=\"T_3d573_row1_col4\" class=\"data row1 col4\" >train</td>\n",
       "      <td id=\"T_3d573_row1_col5\" class=\"data row1 col5\" >XG Boost 1</td>\n",
       "    </tr>\n",
       "  </tbody>\n",
       "</table>\n"
      ],
      "text/plain": [
       "<pandas.io.formats.style.Styler at 0x7faf21e422e0>"
      ]
     },
     "execution_count": 121,
     "metadata": {},
     "output_type": "execute_result"
    }
   ],
   "source": [
    "df3 = df.drop(['quality'], axis=1)\n",
    "#split dara train and test\n",
    "X = df3.drop([\"price\"], axis = 1)\n",
    "y = df3['price']\n",
    "X_train, X_test, y_train, y_test = train_test_split(X, y, train_size   = 0.8, random_state = 42)\n",
    "#model\n",
    "data_dmatrix = xgb.DMatrix(data=X,label=y)\n",
    "xg_reg = xgb.XGBRegressor(objective ='reg:squarederror', colsample_bytree = 0.5, learning_rate = 0.1, max_depth = 12, n_estimators = 100)\n",
    "xg_reg.fit(X_train,y_train)\n",
    "\n",
    "y_pred_gb_test = xg_reg.predict(X_test)\n",
    "y_pred_gb_train= xg_reg.predict(X_train)\n",
    "\n",
    "results_xg_boost_1 = metricas(y_test, y_train, y_pred_gb_test, y_pred_gb_train, \"XG Boost 1\")\n",
    "results_xg_boost_1.style.background_gradient(cmap='coolwarm')"
   ]
  },
  {
   "cell_type": "code",
   "execution_count": 122,
   "metadata": {},
   "outputs": [
    {
     "data": {
      "image/png": "[encoded data removed]",
      "text/plain": [
       "<Figure size 576x216 with 1 Axes>"
      ]
     },
     "metadata": {},
     "output_type": "display_data"
    }
   ],
   "source": [
    "xgb.plot_importance(xg_reg)\n",
    "plt.rcParams['figure.figsize'] = [8, 3]\n",
    "plt.show()"
   ]
  },
  {
   "cell_type": "code",
   "execution_count": null,
   "metadata": {},
   "outputs": [],
   "source": []
  }
 ],
 "metadata": {
  "interpreter": {
   "hash": "81535c40c187213d8173a98c8ffbf422147d8403865cdcdb817e05fa807ec559"
  },
  "kernelspec": {
   "display_name": "Python 3.9.7 ('base')",
   "language": "python",
   "name": "python3"
  },
  "language_info": {
   "codemirror_mode": {
    "name": "ipython",
    "version": 3
   },
   "file_extension": ".py",
   "mimetype": "text/x-python",
   "name": "python",
   "nbconvert_exporter": "python",
   "pygments_lexer": "ipython3",
   "version": "3.9.7"
  },
  "orig_nbformat": 4
 },
 "nbformat": 4,
 "nbformat_minor": 2
}
